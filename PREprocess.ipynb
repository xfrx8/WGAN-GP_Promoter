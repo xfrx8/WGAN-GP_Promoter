{
 "cells": [
  {
   "cell_type": "code",
   "execution_count": 1,
   "metadata": {},
   "outputs": [
    {
     "data": {
      "text/html": [
       "<div>\n",
       "<style scoped>\n",
       "    .dataframe tbody tr th:only-of-type {\n",
       "        vertical-align: middle;\n",
       "    }\n",
       "\n",
       "    .dataframe tbody tr th {\n",
       "        vertical-align: top;\n",
       "    }\n",
       "\n",
       "    .dataframe thead th {\n",
       "        text-align: right;\n",
       "    }\n",
       "</style>\n",
       "<table border=\"1\" class=\"dataframe\">\n",
       "  <thead>\n",
       "    <tr style=\"text-align: right;\">\n",
       "      <th></th>\n",
       "      <th>Promoter_x</th>\n",
       "      <th>均值</th>\n",
       "    </tr>\n",
       "  </thead>\n",
       "  <tbody>\n",
       "    <tr>\n",
       "      <th>0</th>\n",
       "      <td>AAAACAGGCGCCTCGAGTCCTTGTATAAT</td>\n",
       "      <td>0.509753</td>\n",
       "    </tr>\n",
       "    <tr>\n",
       "      <th>1</th>\n",
       "      <td>AAAACAGTGTGGGCCAATTGCTTTATAAT</td>\n",
       "      <td>0.658325</td>\n",
       "    </tr>\n",
       "    <tr>\n",
       "      <th>2</th>\n",
       "      <td>AAAGTGATATTCTACATCACTCCTATAAT</td>\n",
       "      <td>1.023804</td>\n",
       "    </tr>\n",
       "    <tr>\n",
       "      <th>3</th>\n",
       "      <td>AACGCAATAAGCTGTAGAAAGTGTATACT</td>\n",
       "      <td>10.809848</td>\n",
       "    </tr>\n",
       "    <tr>\n",
       "      <th>4</th>\n",
       "      <td>AAGACAAAACATTAAGATAGACCTATAAT</td>\n",
       "      <td>1.738095</td>\n",
       "    </tr>\n",
       "  </tbody>\n",
       "</table>\n",
       "</div>"
      ],
      "text/plain": [
       "                      Promoter_x         均值\n",
       "0  AAAACAGGCGCCTCGAGTCCTTGTATAAT   0.509753\n",
       "1  AAAACAGTGTGGGCCAATTGCTTTATAAT   0.658325\n",
       "2  AAAGTGATATTCTACATCACTCCTATAAT   1.023804\n",
       "3  AACGCAATAAGCTGTAGAAAGTGTATACT  10.809848\n",
       "4  AAGACAAAACATTAAGATAGACCTATAAT   1.738095"
      ]
     },
     "execution_count": 1,
     "metadata": {},
     "output_type": "execute_result"
    }
   ],
   "source": [
    "import pandas as pd\n",
    "\n",
    "# 假设你有一个名为df的DataFrame，其中包含数据和标签列\n",
    "# 替换'your_data_column'和'your_labels_column'为实际的列名\n",
    "df_preprocess = pd.read_excel('seq/source data.xlsx')\n",
    "# 提取df_preprocess中的Promoter和均值给df\n",
    "df = df_preprocess[['Promoter_x', '均值']]\n",
    "df.head()\n"
   ]
  },
  {
   "cell_type": "code",
   "execution_count": 2,
   "metadata": {},
   "outputs": [
    {
     "data": {
      "text/html": [
       "<div>\n",
       "<style scoped>\n",
       "    .dataframe tbody tr th:only-of-type {\n",
       "        vertical-align: middle;\n",
       "    }\n",
       "\n",
       "    .dataframe tbody tr th {\n",
       "        vertical-align: top;\n",
       "    }\n",
       "\n",
       "    .dataframe thead th {\n",
       "        text-align: right;\n",
       "    }\n",
       "</style>\n",
       "<table border=\"1\" class=\"dataframe\">\n",
       "  <thead>\n",
       "    <tr style=\"text-align: right;\">\n",
       "      <th></th>\n",
       "      <th>Promoter_x</th>\n",
       "      <th>均值</th>\n",
       "    </tr>\n",
       "  </thead>\n",
       "  <tbody>\n",
       "    <tr>\n",
       "      <th>98896</th>\n",
       "      <td>TTGATAGAATACAGAGGCGTTATTATAAA</td>\n",
       "      <td>0.303360</td>\n",
       "    </tr>\n",
       "    <tr>\n",
       "      <th>67489</th>\n",
       "      <td>TAGGTATCGAGAATGATACGGGGTATAAC</td>\n",
       "      <td>0.141835</td>\n",
       "    </tr>\n",
       "    <tr>\n",
       "      <th>111799</th>\n",
       "      <td>TTTGTAGGAGGGGGTGAAGGACATATAAT</td>\n",
       "      <td>0.991950</td>\n",
       "    </tr>\n",
       "    <tr>\n",
       "      <th>84936</th>\n",
       "      <td>TGGAAAATCGTACACGCATGGCTTAGAAT</td>\n",
       "      <td>4.666667</td>\n",
       "    </tr>\n",
       "    <tr>\n",
       "      <th>36883</th>\n",
       "      <td>CTGGTAGGTGTATCTGGTCGGGATATATT</td>\n",
       "      <td>0.346013</td>\n",
       "    </tr>\n",
       "  </tbody>\n",
       "</table>\n",
       "</div>"
      ],
      "text/plain": [
       "                           Promoter_x        均值\n",
       "98896   TTGATAGAATACAGAGGCGTTATTATAAA  0.303360\n",
       "67489   TAGGTATCGAGAATGATACGGGGTATAAC  0.141835\n",
       "111799  TTTGTAGGAGGGGGTGAAGGACATATAAT  0.991950\n",
       "84936   TGGAAAATCGTACACGCATGGCTTAGAAT  4.666667\n",
       "36883   CTGGTAGGTGTATCTGGTCGGGATATATT  0.346013"
      ]
     },
     "execution_count": 2,
     "metadata": {},
     "output_type": "execute_result"
    }
   ],
   "source": [
    "df_sample = df.sample(n=300, random_state=1)\n",
    "df_sample.head()"
   ]
  },
  {
   "cell_type": "code",
   "execution_count": null,
   "metadata": {},
   "outputs": [],
   "source": [
    "df_sample['Promoter_x'].to_csv('seq/promoters.txt', header=None, index=None, sep=' ', mode='a')\n"
   ]
  }
 ],
 "metadata": {
  "kernelspec": {
   "display_name": "EDA",
   "language": "python",
   "name": "python3"
  },
  "language_info": {
   "codemirror_mode": {
    "name": "ipython",
    "version": 3
   },
   "file_extension": ".py",
   "mimetype": "text/x-python",
   "name": "python",
   "nbconvert_exporter": "python",
   "pygments_lexer": "ipython3",
   "version": "3.8.16"
  }
 },
 "nbformat": 4,
 "nbformat_minor": 2
}
